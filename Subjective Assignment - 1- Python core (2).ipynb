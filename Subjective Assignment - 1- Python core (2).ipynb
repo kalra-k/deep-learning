{
 "cells": [
  {
   "cell_type": "markdown",
   "metadata": {},
   "source": [
    "Q1. Write a Python program to get the string from the given string where\n",
    "all the occurrence of its first char has been changed to '$,' except first\n",
    "char itself?\n",
    "\n",
    "    Sample String: 'prospect'\n",
    "    Expected Result : 'pros$ect'\n"
   ]
  },
  {
   "cell_type": "code",
   "execution_count": 7,
   "metadata": {},
   "outputs": [
    {
     "name": "stdout",
     "output_type": "stream",
     "text": [
      "pros$ect\n"
     ]
    }
   ],
   "source": [
    "def char_ch(str):\n",
    "    char=str[0]\n",
    "    char1=str.replace(char,\"$\")\n",
    "    str1=char+char1[1:]\n",
    "    return(str1)\n",
    "\n",
    "print(char_ch(\"prospect\"))\n"
   ]
  },
  {
   "cell_type": "markdown",
   "metadata": {},
   "source": [
    "Q2. Write a Python program to get the single string from the two given\n",
    "strings, and separated by the space and swap the first two characters of\n",
    "each string?\n",
    "\n",
    "    Sample String : 'abc', 'xyz'.\n",
    "    Expected Result: 'xyc abz'"
   ]
  },
  {
   "cell_type": "code",
   "execution_count": 8,
   "metadata": {},
   "outputs": [
    {
     "name": "stdout",
     "output_type": "stream",
     "text": [
      "xyc\n",
      "Abz\n",
      "xyc Abz\n"
     ]
    }
   ],
   "source": [
    "str1=\"abc\"\n",
    "str2=\"xyz\"\n",
    "new_str1=str2[0:2]+str1[2:]\n",
    "new_str2=str1[0:2]+str2[2:]\n",
    "Final_str=new_str1+\" \"+new_str2\n",
    "print(new_str1)\n",
    "print(new_str2)\n",
    "print(Final_str)"
   ]
  },
  {
   "cell_type": "markdown",
   "metadata": {},
   "source": [
    "Q3. Write the Python program to add 'ing' at the end of the given string\n",
    "(length of the string should be at least 3). If given string already ends\n",
    "with 'ing,' then add 'ly' instead. If string length of the given string is less\n",
    "than 3, leave it unchanged?\n",
    "\n",
    "\n",
    "    Sample string: ' abc '\n",
    "    Expected result: ' abcing '\n",
    "    Sample string: ' string '\n",
    "    Expected result: ' stringly '\n"
   ]
  },
  {
   "cell_type": "code",
   "execution_count": 9,
   "metadata": {},
   "outputs": [
    {
     "name": "stdout",
     "output_type": "stream",
     "text": [
      "Appleing\n",
      "abcing\n",
      "ablying\n",
      "ingly\n"
     ]
    }
   ],
   "source": [
    "str1=\"Apple\"\n",
    "str2=\"abc\"\n",
    "str3=\"ably\"\n",
    "str4=\"ing\"\n",
    "def append_str(strings):\n",
    "    if len(strings)>=3:\n",
    "        if strings[-3:]==\"ing\":\n",
    "            new_str=strings+\"ly\"\n",
    "        else:\n",
    "            new_str=strings+\"ing\"\n",
    "    else:\n",
    "        new_str=strings\n",
    "    print(new_str)\n",
    "\n",
    "append_str(str1)\n",
    "append_str(str2)\n",
    "append_str(str3)\n",
    "append_str(str4)"
   ]
  },
  {
   "cell_type": "markdown",
   "metadata": {},
   "source": [
    "Q4. Write the Python program to find the first appearance of the\n",
    "substring 'not' and 'poor' from the given string, if 'not' follows the 'poor',\n",
    "replace the whole 'not'...' poor' substring with 'good'.Return the resulting\n",
    "string.\n",
    "\n",
    "    Sample string: 'The lyrics are not that poor!'\n",
    "    'The lyrics are poor!'\n",
    "    Expected Result: 'The lyrics are good!'\n",
    "    'The lyrics are poor!'"
   ]
  },
  {
   "cell_type": "code",
   "execution_count": 10,
   "metadata": {},
   "outputs": [
    {
     "name": "stdout",
     "output_type": "stream",
     "text": [
      "The lyrics is good but some what fine!\n",
      "The lyrics is poor!\n",
      "good!\n"
     ]
    }
   ],
   "source": [
    "def not_poor(str1):\n",
    "    snot = str1.find('not')\n",
    "    spoor = str1.find('poor')\n",
    "    \n",
    "    if spoor > snot and snot>=0 and spoor>=0:\n",
    "        str1 = str1.replace(str1[snot:(spoor+4)], 'good')\n",
    "        return str1\n",
    "    else:\n",
    "        return str1\n",
    "\n",
    "    \n",
    "print(not_poor('The lyrics is not that poor but some what fine!'))\n",
    "print(not_poor('The lyrics is poor!'))\n",
    "print(not_poor('not poor!'))"
   ]
  },
  {
   "cell_type": "markdown",
   "metadata": {},
   "source": [
    "Q5. Write the Python program to remove the characters which have odd\n",
    "index values of a given string."
   ]
  },
  {
   "cell_type": "code",
   "execution_count": 11,
   "metadata": {},
   "outputs": [
    {
     "name": "stdout",
     "output_type": "stream",
     "text": [
      "ace\n"
     ]
    }
   ],
   "source": [
    "str1=\"abcde\"\n",
    "new_str=str1[::2]\n",
    "print(new_str)"
   ]
  },
  {
   "cell_type": "markdown",
   "metadata": {},
   "source": [
    "Q6. Write the python program to print the following floating numbers up\n",
    "to 2 decimal places?"
   ]
  },
  {
   "cell_type": "code",
   "execution_count": 12,
   "metadata": {},
   "outputs": [
    {
     "name": "stdout",
     "output_type": "stream",
     "text": [
      "45.705882352941174\n",
      "printing upto 2 decimal places 45.71\n"
     ]
    }
   ],
   "source": [
    "div=777/17\n",
    "print(div)\n",
    "print(\"printing upto 2 decimal places\",round(div,2))"
   ]
  },
  {
   "cell_type": "markdown",
   "metadata": {},
   "source": [
    "Q7. Write the Python program to format a number with a percentage?"
   ]
  },
  {
   "cell_type": "code",
   "execution_count": 13,
   "metadata": {},
   "outputs": [
    {
     "name": "stdout",
     "output_type": "stream",
     "text": [
      "0.025\n",
      "Number as a percent 2.50%\n"
     ]
    }
   ],
   "source": [
    "num=.025\n",
    "print(num)\n",
    "print(\"Number as a percent\"+\" {:.2%}\".format(num))"
   ]
  },
  {
   "cell_type": "markdown",
   "metadata": {},
   "source": [
    "Q8. Write the Python program to count occurrences of a substring in a\n",
    "String?"
   ]
  },
  {
   "cell_type": "code",
   "execution_count": 14,
   "metadata": {},
   "outputs": [
    {
     "name": "stdout",
     "output_type": "stream",
     "text": [
      "The word string occurs 6 times in the given string.\n"
     ]
    }
   ],
   "source": [
    "str=\"This is a string to find occurences of a substring inside the complete string. So in this string we will find the occurences of the substring string\"\n",
    "num=str.count(\"string\")\n",
    "print(\"The word string occurs %d times in the given string.\" % num)"
   ]
  },
  {
   "cell_type": "markdown",
   "metadata": {},
   "source": [
    "Q9. Write the Python program to count repeated characters in a string.\n",
    "\n",
    "    Sample string: ' thequickbrownjumpsoverthelazydog '\n",
    "    \n",
    "    Expected output:\n",
    "    o 3\n",
    "    e 3\n",
    "    u 2\n",
    "    h 2\n",
    "    r 2\n",
    "    t 2"
   ]
  },
  {
   "cell_type": "code",
   "execution_count": 16,
   "metadata": {},
   "outputs": [
    {
     "name": "stdout",
     "output_type": "stream",
     "text": [
      "t 2\n",
      "h 2\n",
      "e 3\n",
      "u 2\n",
      "r 2\n",
      "o 4\n"
     ]
    }
   ],
   "source": [
    "str=\"thequickbrownfoxjumpsoverthelazydog\"\n",
    "wordDic={}\n",
    "for char in str:\n",
    "        if char in wordDic:\n",
    "            wordDic[char]+=1\n",
    "        else:\n",
    "            wordDic[char]=1\n",
    "\n",
    "for key in wordDic.keys():\n",
    "    value=wordDic[key]\n",
    "    if value>1:\n",
    "        print(key, value)"
   ]
  },
  {
   "cell_type": "markdown",
   "metadata": {},
   "source": [
    "Q10. Write the Python program to print the square and cube symbol in\n",
    "the area of a rectangle and volume of a cylinder?\n",
    "\n",
    "    Sample outputThe area of the rectangle is 1256.66cm2\n",
    "    The volume of the cylinder is 1254.725cm3\n"
   ]
  },
  {
   "cell_type": "code",
   "execution_count": 17,
   "metadata": {},
   "outputs": [
    {
     "name": "stdout",
     "output_type": "stream",
     "text": [
      "The area of the rectangle is 1256.66cm²\n",
      "The volume of the cylinder is 1254.725cm³\n"
     ]
    }
   ],
   "source": [
    "area = 1256.66\n",
    "volume = 1254.725\n",
    "decimals = 2\n",
    "print(\"The area of the rectangle is {0:.{1}f}cm\\u00b2\".format(area, decimals))\n",
    "decimals = 3\n",
    "print(\"The volume of the cylinder is {0:.{1}f}cm\\u00b3\".format(volume, decimals))\n"
   ]
  },
  {
   "cell_type": "markdown",
   "metadata": {},
   "source": [
    "Q11. Write the Python program to check if a string contains all letters of\n",
    "the alphabet?"
   ]
  },
  {
   "cell_type": "code",
   "execution_count": 18,
   "metadata": {},
   "outputs": [
    {
     "name": "stdout",
     "output_type": "stream",
     "text": [
      "True\n",
      "False\n"
     ]
    }
   ],
   "source": [
    "import string\n",
    "\n",
    "alphabet = set(string.ascii_lowercase)\n",
    "input_string = 'The quick brown fox jumps over the lazy dog'\n",
    "print(set(input_string.lower()) >= alphabet)\n",
    "input_string = 'The quick brown fox jumps over the lazy cat'\n",
    "print(set(input_string.lower()) >= alphabet)\n"
   ]
  },
  {
   "cell_type": "markdown",
   "metadata": {},
   "source": [
    "Q12. Write the Python program to find the second most repeated word\n",
    "in a given string?"
   ]
  },
  {
   "cell_type": "code",
   "execution_count": 19,
   "metadata": {},
   "outputs": [
    {
     "name": "stdout",
     "output_type": "stream",
     "text": [
      "('of', 4)\n"
     ]
    }
   ],
   "source": [
    "def word_count(str):\n",
    "    counts = dict()\n",
    "    words = str.split()\n",
    "\n",
    "    for word in words:\n",
    "        if word in counts:\n",
    "            counts[word] += 1\n",
    "        else:\n",
    "            counts[word] = 1\n",
    "\n",
    "    counts_x = sorted(counts.items(), key=lambda kv: kv[1])\n",
    "    #print(counts_x)\n",
    "    return counts_x[-2]\n",
    " \n",
    "print(word_count(\"Both of these issues are fixed by postponing the evaluation of annotations. Instead of compiling code which executes expressions in annotations at their definition time, the compiler stores the annotation in a string form equivalent to the AST of the expression in question. If needed, annotations can be resolved at runtime using typing.get_type_hints(). In the common case where this is not required, the annotations are cheaper to store (since short strings are interned by the interpreter) and make startup time faster.\"))\n"
   ]
  },
  {
   "cell_type": "markdown",
   "metadata": {},
   "source": [
    "Q13. Write the Python program to find the minimum window in the given\n",
    "string, which will contains all the characters of another given\n",
    "strings?\n",
    "\n",
    "    Example 1\n",
    "    Input : string1 = \" PRWSOERIUSFK \"\n",
    "    string2 = \" OSU \"\n",
    "    Output: Minimum window is \"OERIUS\""
   ]
  },
  {
   "cell_type": "code",
   "execution_count": 20,
   "metadata": {},
   "outputs": [
    {
     "name": "stdout",
     "output_type": "stream",
     "text": [
      "Smallest window is : \n",
      "SOERIU\n"
     ]
    }
   ],
   "source": [
    "\n",
    "no_of_chars = 256\n",
    "\n",
    "# Function to find smallest window \n",
    "# containing all characters of 'pat' \n",
    "def findSubString(string, pat): \n",
    "\n",
    "\tlen1 = len(string) \n",
    "\tlen2 = len(pat) \n",
    "\n",
    "\t# check if string's length is less than pattern's \n",
    "\t# length. If yes then no such window can exist \n",
    "\tif len1 < len2: \n",
    "\t\n",
    "\t\tprint(\"No such window exists\") \n",
    "\t\treturn \"\" \n",
    "\n",
    "\thash_pat = [0] * no_of_chars \n",
    "\thash_str = [0] * no_of_chars \n",
    "\n",
    "\t# store occurrence ofs characters of pattern \n",
    "\tfor i in range(0, len2): \n",
    "\t\thash_pat[ord(pat[i])] += 1\n",
    "\n",
    "\tstart, start_index, min_len = 0, -1, float('inf') \n",
    "\n",
    "\t# start traversing the string \n",
    "\tcount = 0 # count of characters \n",
    "\tfor j in range(0, len1): \n",
    "\t\n",
    "\t\t# count occurrence of characters of string \n",
    "\t\thash_str[ord(string[j])] += 1\n",
    "\n",
    "\t\t# If string's char matches with \n",
    "\t\t# pattern's char then increment count \n",
    "\t\tif (hash_pat[ord(string[j])] != 0 and\n",
    "\t\t\thash_str[ord(string[j])] <=\n",
    "\t\t\thash_pat[ord(string[j])]): \n",
    "\t\t\tcount += 1\n",
    "\n",
    "\t\t# if all the characters are matched \n",
    "\t\tif count == len2: \n",
    "\t\t\n",
    "\t\t\t# Try to minimize the window i.e., check if \n",
    "\t\t\t# any character is occurring more no. of times \n",
    "\t\t\t# than its occurrence in pattern, if yes \n",
    "\t\t\t# then remove it from starting and also remove \n",
    "\t\t\t# the useless characters. \n",
    "\t\t\twhile (hash_str[ord(string[start])] > \n",
    "\t\t\t\thash_pat[ord(string[start])] or\n",
    "\t\t\t\thash_pat[ord(string[start])] == 0): \n",
    "\t\t\t\n",
    "\t\t\t\tif (hash_str[ord(string[start])] > \n",
    "\t\t\t\t\thash_pat[ord(string[start])]): \n",
    "\t\t\t\t\thash_str[ord(string[start])] -= 1\n",
    "\t\t\t\tstart += 1\n",
    "\t\t\t\n",
    "\t\t\t# update window size \n",
    "\t\t\tlen_window = j - start + 1\n",
    "\t\t\tif min_len > len_window: \n",
    "\t\t\t\n",
    "\t\t\t\tmin_len = len_window \n",
    "\t\t\t\tstart_index = start \n",
    "\n",
    "\t# If no window found \n",
    "\tif start_index == -1: \n",
    "\t\tprint(\"No such window exists\") \n",
    "\t\treturn \"\" \n",
    "\t\n",
    "\t# Return substring starting from \n",
    "\t# start_index and length min_len \n",
    "\treturn string[start_index : start_index + min_len] \n",
    "\n",
    " \n",
    "\n",
    "string = \"PRWSOERIUSFK\"\n",
    "pat = \"OSU\"\n",
    "\n",
    "print(\"Smallest window is : \") \n",
    "print(findSubString(string, pat)) \n",
    "\n",
    "\n"
   ]
  },
  {
   "cell_type": "markdown",
   "metadata": {},
   "source": [
    "Q14. Write the Python program to count number of substrings from a\n",
    "given string of lowercase alphabets with exactly k distinct (given)\n",
    "characters?\n",
    "\n",
    "    Input a string (lowercase alphabets): wolf\n",
    "    Input k: 4\n",
    "    Number of substrings with exactly 4 distinct characters: 1"
   ]
  },
  {
   "cell_type": "code",
   "execution_count": 21,
   "metadata": {},
   "outputs": [
    {
     "name": "stdout",
     "output_type": "stream",
     "text": [
      "Input a string (lowercase alphabets):wolf\n",
      "Input k: 4\n",
      "Number of substrings with exactly 4 distinct characters : 1\n"
     ]
    }
   ],
   "source": [
    "def count_k_dist(str1, k): \n",
    "\tstr_len = len(str1) \n",
    "\t\n",
    "\tresult = 0\n",
    "\n",
    "\tctr = [0] * 27\n",
    "\n",
    "\tfor i in range(0, str_len): \n",
    "\t\tdist_ctr = 0\n",
    "\n",
    "\t\tctr = [0] * 27\n",
    "\n",
    "\t\tfor j in range(i, str_len): \n",
    "\t\t\t\n",
    "\t\t\tif(ctr[ord(str1[j]) - 97] == 0): \n",
    "\t\t\t\tdist_ctr += 1\n",
    "\n",
    "\t\t\tctr[ord(str1[j]) - 97] += 1\n",
    "\n",
    "\t\t\tif(dist_ctr == k): \n",
    "\t\t\t\tresult += 1\n",
    "\t\t\tif(dist_ctr > k): \n",
    "\t\t\t\tbreak\n",
    "\n",
    "\treturn result \n",
    "\n",
    "str1 = input(\"Input a string (lowercase alphabets):\")\n",
    "k = int(input(\"Input k: \"))\n",
    "print(\"Number of substrings with exactly\", k, \"distinct characters : \", end = \"\") \n",
    "print(count_k_dist(str1, k))\n"
   ]
  },
  {
   "cell_type": "markdown",
   "metadata": {},
   "source": [
    "Q15. Write the Python program to count number of substrings with same\n",
    "first and last characters of the given string?\n",
    "\n",
    "    Input a string: abcd\n",
    "    4\n"
   ]
  },
  {
   "cell_type": "code",
   "execution_count": 22,
   "metadata": {},
   "outputs": [
    {
     "name": "stdout",
     "output_type": "stream",
     "text": [
      "Input a string: abcd\n",
      "4\n"
     ]
    }
   ],
   "source": [
    "def no_of_substring_with_equalEnds(str1): \n",
    "\tresult = 0; \n",
    "\tn = len(str1); \n",
    "\tfor i in range(n): \n",
    "\t\tfor j in range(i, n): \n",
    "\t\t\tif (str1[i] == str1[j]): \n",
    "\t\t\t\tresult = result + 1\n",
    "\treturn result \n",
    "str1 = input(\"Input a string: \")\n",
    "print(no_of_substring_with_equalEnds(str1))\n"
   ]
  },
  {
   "cell_type": "markdown",
   "metadata": {},
   "source": [
    "## Great Job!"
   ]
  }
 ],
 "metadata": {
  "kernelspec": {
   "display_name": "Python 3",
   "language": "python",
   "name": "python3"
  },
  "language_info": {
   "codemirror_mode": {
    "name": "ipython",
    "version": 3
   },
   "file_extension": ".py",
   "mimetype": "text/x-python",
   "name": "python",
   "nbconvert_exporter": "python",
   "pygments_lexer": "ipython3",
   "version": "3.7.0"
  }
 },
 "nbformat": 4,
 "nbformat_minor": 2
}
